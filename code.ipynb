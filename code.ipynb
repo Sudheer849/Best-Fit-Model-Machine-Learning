{
 "cells": [
  {
   "cell_type": "code",
   "execution_count": 3,
   "id": "c093c461",
   "metadata": {},
   "outputs": [
    {
     "ename": "FileNotFoundError",
     "evalue": "[Errno 2] No such file or directory: 'train.pkl'",
     "output_type": "error",
     "traceback": [
      "\u001b[0;31m---------------------------------------------------------------------------\u001b[0m",
      "\u001b[0;31mFileNotFoundError\u001b[0m                         Traceback (most recent call last)",
      "\u001b[0;32m/tmp/ipykernel_30333/1942834002.py\u001b[0m in \u001b[0;36m<module>\u001b[0;34m\u001b[0m\n\u001b[1;32m     15\u001b[0m         \u001b[0mprint\u001b[0m\u001b[0;34m(\u001b[0m\u001b[0mmsg\u001b[0m\u001b[0;34m)\u001b[0m\u001b[0;34m\u001b[0m\u001b[0;34m\u001b[0m\u001b[0m\n\u001b[1;32m     16\u001b[0m \u001b[0;34m\u001b[0m\u001b[0m\n\u001b[0;32m---> 17\u001b[0;31m \u001b[0;32mwith\u001b[0m \u001b[0mopen\u001b[0m\u001b[0;34m(\u001b[0m\u001b[0;34m'train.pkl'\u001b[0m\u001b[0;34m,\u001b[0m \u001b[0;34m'rb'\u001b[0m\u001b[0;34m)\u001b[0m \u001b[0;32mas\u001b[0m \u001b[0mf\u001b[0m\u001b[0;34m:\u001b[0m\u001b[0;34m\u001b[0m\u001b[0;34m\u001b[0m\u001b[0m\n\u001b[0m\u001b[1;32m     18\u001b[0m     \u001b[0mdata\u001b[0m \u001b[0;34m=\u001b[0m \u001b[0mpickle\u001b[0m\u001b[0;34m.\u001b[0m\u001b[0mload\u001b[0m\u001b[0;34m(\u001b[0m\u001b[0mf\u001b[0m\u001b[0;34m)\u001b[0m\u001b[0;34m\u001b[0m\u001b[0;34m\u001b[0m\u001b[0m\n\u001b[1;32m     19\u001b[0m \u001b[0;32mwith\u001b[0m \u001b[0mopen\u001b[0m\u001b[0;34m(\u001b[0m\u001b[0;34m'test.pkl'\u001b[0m\u001b[0;34m,\u001b[0m \u001b[0;34m'rb'\u001b[0m\u001b[0;34m)\u001b[0m \u001b[0;32mas\u001b[0m \u001b[0mf\u001b[0m\u001b[0;34m:\u001b[0m\u001b[0;34m\u001b[0m\u001b[0;34m\u001b[0m\u001b[0m\n",
      "\u001b[0;31mFileNotFoundError\u001b[0m: [Errno 2] No such file or directory: 'train.pkl'"
     ]
    }
   ],
   "source": [
    "import pickle\n",
    "import pandas as pd\n",
    "import random\n",
    "import numpy as np\n",
    "import matplotlib.pyplot as plt\n",
    "from sklearn.model_selection import train_test_split\n",
    "from sklearn.linear_model import LinearRegression\n",
    "from sklearn.preprocessing import PolynomialFeatures\n",
    "from pprint import pprint\n",
    "\n",
    "DEBUG = False\n",
    "\n",
    "def log(msg):\n",
    "    if DEBUG:\n",
    "        print(msg)\n",
    "\n",
    "with open('train.pkl', 'rb') as f:\n",
    "    data = pickle.load(f)\n",
    "with open('test.pkl', 'rb') as f:\n",
    "    test_data = pickle.load(f)\n",
    "\n",
    "log(test_data)\n",
    "log(\"Data loaded\")\n"
   ]
  },
  {
   "cell_type": "code",
   "execution_count": null,
   "id": "de0e562f",
   "metadata": {},
   "outputs": [
    {
     "ename": "NameError",
     "evalue": "name 'random' is not defined",
     "output_type": "error",
     "traceback": [
      "\u001b[0;31m---------------------------------------------------------------------------\u001b[0m",
      "\u001b[0;31mNameError\u001b[0m                                 Traceback (most recent call last)",
      "\u001b[0;32m/tmp/ipykernel_30333/3701069727.py\u001b[0m in \u001b[0;36m<module>\u001b[0;34m\u001b[0m\n\u001b[1;32m      1\u001b[0m \u001b[0;32mfrom\u001b[0m \u001b[0mtabulate\u001b[0m \u001b[0;32mimport\u001b[0m \u001b[0mtabulate\u001b[0m\u001b[0;34m\u001b[0m\u001b[0;34m\u001b[0m\u001b[0m\n\u001b[1;32m      2\u001b[0m \u001b[0;34m\u001b[0m\u001b[0m\n\u001b[0;32m----> 3\u001b[0;31m \u001b[0mrandom\u001b[0m\u001b[0;34m.\u001b[0m\u001b[0mshuffle\u001b[0m\u001b[0;34m(\u001b[0m\u001b[0mdata\u001b[0m\u001b[0;34m)\u001b[0m\u001b[0;34m\u001b[0m\u001b[0;34m\u001b[0m\u001b[0m\n\u001b[0m\u001b[1;32m      4\u001b[0m \u001b[0;34m\u001b[0m\u001b[0m\n\u001b[1;32m      5\u001b[0m \u001b[0mb_array\u001b[0m\u001b[0;34m,\u001b[0m \u001b[0mv_array\u001b[0m\u001b[0;34m,\u001b[0m \u001b[0mms_array\u001b[0m\u001b[0;34m,\u001b[0m \u001b[0mirr_array\u001b[0m\u001b[0;34m,\u001b[0m \u001b[0mbsqr\u001b[0m \u001b[0;34m=\u001b[0m \u001b[0;34m[\u001b[0m\u001b[0;34m]\u001b[0m\u001b[0;34m,\u001b[0m \u001b[0;34m[\u001b[0m\u001b[0;34m]\u001b[0m\u001b[0;34m,\u001b[0m \u001b[0;34m[\u001b[0m\u001b[0;34m]\u001b[0m\u001b[0;34m,\u001b[0m \u001b[0;34m[\u001b[0m\u001b[0;34m]\u001b[0m\u001b[0;34m,\u001b[0m \u001b[0;34m[\u001b[0m\u001b[0;34m]\u001b[0m\u001b[0;34m\u001b[0m\u001b[0;34m\u001b[0m\u001b[0m\n",
      "\u001b[0;31mNameError\u001b[0m: name 'random' is not defined"
     ]
    }
   ],
   "source": [
    "from tabulate import tabulate\n",
    "\n",
    "random.shuffle(data)\n",
    "\n",
    "b_array, v_array, ms_array, irr_array, bsqr = [], [], [], [], []\n",
    "train_data = np.array_split(data, 16)  # divide train data into 16 parts\n",
    "\n",
    "for degree in range(1, 16):\n",
    "    # dictionary to store all the y values for every x in test data\n",
    "    dict = {i[0]: [] for i in test_data}\n",
    "    # log(dict)\n",
    "    for data in train_data:\n",
    "        frame = pd.DataFrame(data, columns = [ \"Area\", \"Cost\"] )\n",
    "        X, Y = frame[\"Area\"].values, frame[\"Cost\"].values\n",
    "\n",
    "        new_X = PolynomialFeatures(degree).fit_transform(X.reshape(-1, 1))\n",
    "        model = LinearRegression().fit(new_X, Y)\n",
    "        new_Y = model.predict(new_X)\n",
    "        \n",
    "        coeff_list = [model.intercept_]\n",
    "        coeff_list.extend( model.coef_[1: degree + 1].tolist() )\n",
    "        coeff_list.reverse()\n",
    "        poly = np.poly1d(coeff_list)\n",
    "        \n",
    "        for i in test_data:\n",
    "            dict[i[0]].append(poly(i[0]))\n",
    "\n",
    "          # bias and variance Calculation\n",
    "    bias, variance, ms, irr, bsq = 0, 0, 0, 0, 0\n",
    "    # log(dict)\n",
    "    for i in test_data:\n",
    "        avg = sum(dict[i[0]]) / len(dict[i[0]])        \n",
    "        sqr_avg = sum( (avg - j)**2 for j in dict[i[0]] ) / len(dict[i[0]])      \n",
    "\n",
    "        variance += sqr_avg\n",
    "        bias += avg-i[1]\n",
    "        bsq += (avg-i[1])**2\n",
    "\n",
    "        ## mean squared error\n",
    "        tms = sum( (i[1] - j)**2 for j in dict[i[0]] ) / len(dict[i[0]])\n",
    "        ms += tms\n",
    "        irr += tms - sqr_avg - (avg - i[1])**2\n",
    "        # print(avg, i[1])\n",
    "\n",
    "    # print( bias, variance, ms, irr )\n",
    "    \n",
    "    b_array.append( bias/len(test_data) )\n",
    "    v_array.append( variance/len(test_data) )\n",
    "    ms_array.append( ms/len(test_data) )\n",
    "    irr_array.append( irr/len(test_data) )\n",
    "    bsqr.append( bsq/len(test_data) )\n",
    "\n",
    "deg = [ i+1 for i in range(15) ]\n",
    "table = list(zip(deg, b_array, v_array, ms_array))\n",
    "print( tabulate( table, headers=['Degree', 'Bias', 'Variance', 'Mean Squared Error'], tablefmt=\"fancy_grid\") )\n",
    "\n",
    "    \n",
    "log(\"bias, variance and MSE calculated\")"
   ]
  },
  {
   "cell_type": "code",
   "execution_count": null,
   "id": "f6cfa633",
   "metadata": {},
   "outputs": [
    {
     "ename": "NameError",
     "evalue": "name 'tabulate' is not defined",
     "output_type": "error",
     "traceback": [
      "\u001b[0;31m---------------------------------------------------------------------------\u001b[0m",
      "\u001b[0;31mNameError\u001b[0m                                 Traceback (most recent call last)",
      "\u001b[0;32m/tmp/ipykernel_30333/520873480.py\u001b[0m in \u001b[0;36m<module>\u001b[0;34m\u001b[0m\n\u001b[0;32m----> 1\u001b[0;31m \u001b[0mprint\u001b[0m\u001b[0;34m(\u001b[0m \u001b[0mtabulate\u001b[0m\u001b[0;34m(\u001b[0m \u001b[0mlist\u001b[0m\u001b[0;34m(\u001b[0m\u001b[0mzip\u001b[0m\u001b[0;34m(\u001b[0m\u001b[0mdeg\u001b[0m\u001b[0;34m,\u001b[0m \u001b[0mirr_array\u001b[0m\u001b[0;34m)\u001b[0m\u001b[0;34m)\u001b[0m\u001b[0;34m,\u001b[0m \u001b[0mheaders\u001b[0m\u001b[0;34m=\u001b[0m\u001b[0;34m[\u001b[0m\u001b[0;34m'Degree'\u001b[0m\u001b[0;34m,\u001b[0m \u001b[0;34m'Irreducible error'\u001b[0m\u001b[0;34m]\u001b[0m\u001b[0;34m,\u001b[0m \u001b[0mtablefmt\u001b[0m\u001b[0;34m=\u001b[0m\u001b[0;34m\"fancy_grid\"\u001b[0m  \u001b[0;34m)\u001b[0m \u001b[0;34m)\u001b[0m\u001b[0;34m\u001b[0m\u001b[0;34m\u001b[0m\u001b[0m\n\u001b[0m",
      "\u001b[0;31mNameError\u001b[0m: name 'tabulate' is not defined"
     ]
    }
   ],
   "source": [
    "print( tabulate( list(zip(deg, irr_array)), headers=['Degree', 'Irreducible error'], tablefmt=\"fancy_grid\"  ) )\n"
   ]
  },
  {
   "cell_type": "code",
   "execution_count": null,
   "id": "2391602b",
   "metadata": {},
   "outputs": [
    {
     "data": {
      "text/plain": [
       "Text(0, 0.5, 'Error')"
      ]
     },
     "execution_count": 4,
     "metadata": {},
     "output_type": "execute_result"
    },
    {
     "data": {
      "image/png": "[encoded data removed]",
      "text/plain": [
       "<Figure size 432x288 with 1 Axes>"
      ]
     },
     "metadata": {
      "needs_background": "light"
     },
     "output_type": "display_data"
    }
   ],
   "source": [
    "import matplotlib.pyplot as plt\n",
    "\n",
    "log(bsqr)\n",
    "\n",
    "plt.plot(deg, bsqr, 'r', label='Bias')\n",
    "plt.plot(deg, v_array, 'b', label='Variance')\n",
    "plt.plot(deg, ms_array, 'g', label='Total Error')\n",
    "\n",
    "plt.title(\"Bias-Variance Tradeoff\")\n",
    "plt.xlabel('Model Complexity')\n",
    "plt.legend()\n",
    "plt.ylabel('Error')"
   ]
  }
 ],
 "metadata": {
  "interpreter": {
   "hash": "f9f85f796d01129d0dd105a088854619f454435301f6ffec2fea96ecbd9be4ac"
  },
  "kernelspec": {
   "display_name": "Python 3.9.7 64-bit",
   "language": "python",
   "name": "python3"
  },
  "language_info": {
   "codemirror_mode": {
    "name": "ipython",
    "version": 3
   },
   "file_extension": ".py",
   "mimetype": "text/x-python",
   "name": "python",
   "nbconvert_exporter": "python",
   "pygments_lexer": "ipython3",
   "version": "3.9.10"
  }
 },
 "nbformat": 4,
 "nbformat_minor": 5
}
